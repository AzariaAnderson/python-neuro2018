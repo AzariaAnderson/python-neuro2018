{
 "cells": [
  {
   "cell_type": "markdown",
   "metadata": {},
   "source": [
    "# Getting acquainted with Jupyter Notebook"
   ]
  },
  {
   "cell_type": "markdown",
   "metadata": {},
   "source": [
    "If you are reading this, you are most likely inside a **Jupyter environment**. [Jupyter](http://jupyter.org) provides a very nice environment accessed through a standard web browser (e.g. Google Chrome, FireFox, or Safari), where you can execute Python codes and take notes at the same time! I provide most course material as a **Jupyter Notebook** (a file like this very one you are readaing right now!) that contains both text and code snippets."
   ]
  },
  {
   "cell_type": "markdown",
   "metadata": {},
   "source": [
    "Before moving on, let's make sure we are familiar with Jupyter environment. Try out the following:"
   ]
  },
  {
   "cell_type": "markdown",
   "metadata": {},
   "source": [
    "## 1. Executing a code cell"
   ]
  },
  {
   "cell_type": "markdown",
   "metadata": {},
   "source": [
    "Below is an example of a **cell** containing some Python code snippets. Go ahead and click on that cell, and hit **Shift+Enter** to run or **execute** the cell. If you do so, you should see a message getting printed out! Don't worry if you don't quite understand what's going on in the code below - you will be learning precisely that throughout this course."
   ]
  },
  {
   "cell_type": "markdown",
   "metadata": {},
   "source": [
    "Run the cell a few times and notice that the message changes slightly everytime."
   ]
  },
  {
   "cell_type": "code",
   "execution_count": null,
   "metadata": {},
   "outputs": [],
   "source": [
    "from datetime import datetime\n",
    "\n",
    "today = datetime.today().strftime('%b %d, %Y')\n",
    "time = datetime.now().strftime('%p %I:%M:%S')\n",
    "print('{} is your first day of Python Scientific Computing course!'.format(today))\n",
    "print('The current local time is {}'.format(time))"
   ]
  },
  {
   "cell_type": "markdown",
   "metadata": {},
   "source": [
    "It also turns out that running a cell with **SHIFT+ENTER** actually puts you onto the next cell. So if you want to run a sequence of a few cells, you can simply hit. Try running the next few cells bu hitting **SHIFT+ENTER** repeatedly."
   ]
  },
  {
   "cell_type": "code",
   "execution_count": null,
   "metadata": {},
   "outputs": [],
   "source": [
    "a = 10"
   ]
  },
  {
   "cell_type": "code",
   "execution_count": null,
   "metadata": {},
   "outputs": [],
   "source": [
    "b = 20"
   ]
  },
  {
   "cell_type": "code",
   "execution_count": null,
   "metadata": {},
   "outputs": [],
   "source": [
    "c = 30"
   ]
  },
  {
   "cell_type": "code",
   "execution_count": null,
   "metadata": {},
   "outputs": [],
   "source": [
    "d = a * b + c"
   ]
  },
  {
   "cell_type": "code",
   "execution_count": null,
   "metadata": {},
   "outputs": [],
   "source": [
    "print(f'd = {d}')"
   ]
  },
  {
   "cell_type": "markdown",
   "metadata": {},
   "source": [
    "## 2. Edit a cell's content"
   ]
  },
  {
   "cell_type": "markdown",
   "metadata": {},
   "source": [
    "You can easily edit the content of any cell by just clicking on the cell, and positioning your cursors to where you want to edit. \n",
    "\n",
    "Go ahead and fix the typos in the cell below. When editing a **Markdown** cell like this one or the one below, you would want to \n",
    "**run** the cell (with **Shift+Enter**) so that any styling on the text gets applied. "
   ]
  },
  {
   "cell_type": "markdown",
   "metadata": {},
   "source": [
    "---\n",
    "\n",
    "Ther are somee prbolems in this snetnece!\n",
    "\n",
    "---"
   ]
  },
  {
   "cell_type": "markdown",
   "metadata": {},
   "source": [
    "## 3. Creating a new cell"
   ]
  },
  {
   "cell_type": "markdown",
   "metadata": {},
   "source": [
    "As you workthrough the course material, you would want to type in and run your own code, and also jot down your own notes. While you can just edit the existing cells, you should lean to create new cells so you don't feel limited! You can insert a new cell below the currently selected cell by hitting the `+` button at the top of the notebook\n",
    "![add new cell](images/add_new_cell.png)"
   ]
  },
  {
   "cell_type": "markdown",
   "metadata": {},
   "source": [
    "Or, more conveniently by hitting the key **b** when you are not editing the content of a cell. To get out of the **edit mode**, hit **ESC** key. When you are not in te edit mode, you are said to be in the **command mode** of Jupyter, and you can take many actions by knowing a few simple key sequences (with many just needing a single key hit)!"
   ]
  },
  {
   "cell_type": "markdown",
   "metadata": {},
   "source": [
    "Try both methods to create a few new cells in the notebook. Don't worrying about creating a bit of a mess - we'll learn how to delete the unwanted cells next."
   ]
  },
  {
   "cell_type": "markdown",
   "metadata": {},
   "source": [
    "## 4. Deleting unwanted cells"
   ]
  },
  {
   "cell_type": "markdown",
   "metadata": {},
   "source": [
    "You can delete unwanted cells by selecting the cell you want to delete and navigating through the menu: Edit > Delete Cells"
   ]
  },
  {
   "cell_type": "markdown",
   "metadata": {},
   "source": [
    "![delete cell](images/deleting_cell.png)"
   ]
  },
  {
   "cell_type": "markdown",
   "metadata": {},
   "source": [
    "Alternatively, you can delete the selected cell by hitting the **d** key twice while in the command mode. Again, hit ESC to get out of editing mode as necessary."
   ]
  },
  {
   "cell_type": "markdown",
   "metadata": {},
   "source": [
    "Go ahead and delete the extra cells you created from above to keep the notebook clean."
   ]
  },
  {
   "cell_type": "markdown",
   "metadata": {},
   "source": [
    "## 5. Changing the cell type"
   ]
  },
  {
   "cell_type": "markdown",
   "metadata": {},
   "source": [
    "By default, the newly created cells are **Code** cells, expecting you to type in Python code. While this is a good default as you are here to code, you would want to take notes, and for that you need to create **Markdown** cells instead. You can actually **convert an existing cell** between any cell type by selecting the cell and then selecting the desired cell type from the dropdown list at the top of the Jupyter."
   ]
  },
  {
   "cell_type": "markdown",
   "metadata": {},
   "source": [
    "![chosing cell type](images/cell_type.png)"
   ]
  },
  {
   "cell_type": "markdown",
   "metadata": {},
   "source": [
    "Alternatively, you can change the selected cell to a desired cell type by hitting the right key in the command mode:\n",
    "* key **m** for Markdown cell\n",
    "* key **y** for Code cell\n",
    "* key **r** for Raw cell"
   ]
  },
  {
   "cell_type": "markdown",
   "metadata": {},
   "source": [
    "## 6. Moving between cells"
   ]
  },
  {
   "cell_type": "markdown",
   "metadata": {},
   "source": [
    "Until now, you were likely selecting cells by clicking on the cell. Although this method works ok, clicking on the cell will take you directly into the edit mode, and if you are trying to select a cell to run a command, you would first have to hit ESC key.\n",
    "\n",
    "Instead, you can move between cells by simply hitting **UP or DOWN arrows** while in the command mode, and without exiting the command mode, making it a convenient option for moving to the target cell to run a command."
   ]
  },
  {
   "cell_type": "markdown",
   "metadata": {},
   "source": [
    "Also recall that **SHIFT+ENTER** will run and move to the next cell, so this is also a convenient way to progress through the notebook."
   ]
  },
  {
   "cell_type": "markdown",
   "metadata": {},
   "source": [
    "# Summary"
   ]
  },
  {
   "cell_type": "markdown",
   "metadata": {},
   "source": [
    "That should get you going with Jupyter environment. While Jupyter comes with a lot of features and we have barely scratched the surface, you already know enough to make a good use of Jupyter notebooks! As we progress through the course, we will cover additional features of Jupyter notebook as appropriate."
   ]
  }
 ],
 "metadata": {
  "kernelspec": {
   "display_name": "Python 3",
   "language": "python",
   "name": "python3"
  },
  "language_info": {
   "codemirror_mode": {
    "name": "ipython",
    "version": 3
   },
   "file_extension": ".py",
   "mimetype": "text/x-python",
   "name": "python",
   "nbconvert_exporter": "python",
   "pygments_lexer": "ipython3",
   "version": "3.6.5"
  }
 },
 "nbformat": 4,
 "nbformat_minor": 2
}
